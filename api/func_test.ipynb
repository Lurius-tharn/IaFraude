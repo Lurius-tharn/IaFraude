{
 "cells": [
  {
   "cell_type": "code",
   "execution_count": 45,
   "metadata": {},
   "outputs": [
    {
     "data": {
      "text/plain": [
       "25"
      ]
     },
     "execution_count": 45,
     "metadata": {},
     "output_type": "execute_result"
    }
   ],
   "source": [
    "import plotly.express as px\n",
    "\n",
    "def temp(ws, ta, tc, i, delta=1):\n",
    "    tc = ((-ws**2/1600) * 0.4-0.1) * (tc - ta - (i**1.4/73785) * 130) * (delta/60/1000) + tc\n",
    "    return tc\n",
    " \n",
    "def temp_wrapper(time, ws, ta, tc, i, delta):\n",
    "    x = []\n",
    "    y = []\n",
    "    time = time*1000\n",
    "    for n in range(0, time+delta, delta):\n",
    "        x.append(n/1000)\n",
    "        y.append(tc)\n",
    "        tc = temp(ws, ta, tc, i, delta)\n",
    "    return x, y\n",
    "\n",
    "resx, resy = temp_wrapper(1000, 2.3, 25, 25, 500, 30)\n",
    "\n",
    "px.scatter(x=resx, y=resy)\n",
    "\n",
    "resy[0]"
   ]
  },
  {
   "cell_type": "code",
   "execution_count": 37,
   "metadata": {},
   "outputs": [
    {
     "data": {
      "text/plain": [
       "[25,\n",
       " 25.053605478620558,\n",
       " 25.106939385185736,\n",
       " 25.160003095513517,\n",
       " 25.212797978451814,\n",
       " 25.265325395913784,\n",
       " 25.317586702912966,\n",
       " 25.369583247598225,\n",
       " 25.421316371288544,\n",
       " 25.472787408507607,\n",
       " 25.523997687018237,\n",
       " 25.574948527856648,\n",
       " 25.625641245366516,\n",
       " 25.67607714723289,\n",
       " 25.72625753451592,\n",
       " 25.776183701684428,\n",
       " 25.825856936649288,\n",
       " 25.875278520796662,\n",
       " 25.92444972902105,\n",
       " 25.973371829758168,\n",
       " 26.022046085017692,\n",
       " 26.070473750415786,\n",
       " 26.118656075207518,\n",
       " 26.166594302319062,\n",
       " 26.21428966837978,\n",
       " 26.261743403754117,\n",
       " 26.30895673257333,\n",
       " 26.355930872767075,\n",
       " 26.402667036094833,\n",
       " 26.449166428177154,\n",
       " 26.495430248526763,\n",
       " 26.5414596905795,\n",
       " 26.587255941725118,\n",
       " 26.632820183337902,\n",
       " 26.678153590807145]"
      ]
     },
     "execution_count": 37,
     "metadata": {},
     "output_type": "execute_result"
    }
   ],
   "source": [
    "resy"
   ]
  }
 ],
 "metadata": {
  "kernelspec": {
   "display_name": "Python 3",
   "language": "python",
   "name": "python3"
  },
  "language_info": {
   "codemirror_mode": {
    "name": "ipython",
    "version": 3
   },
   "file_extension": ".py",
   "mimetype": "text/x-python",
   "name": "python",
   "nbconvert_exporter": "python",
   "pygments_lexer": "ipython3",
   "version": "3.11.5"
  }
 },
 "nbformat": 4,
 "nbformat_minor": 2
}
